{
 "cells": [
  {
   "cell_type": "code",
   "execution_count": 1,
   "id": "c8b10abd",
   "metadata": {},
   "outputs": [
    {
     "name": "stdout",
     "output_type": "stream",
     "text": [
      "Requirement already satisfied: requests in c:\\users\\sai\\anaconda3\\lib\\site-packages (2.31.0)\n",
      "Requirement already satisfied: beautifulsoup4 in c:\\users\\sai\\anaconda3\\lib\\site-packages (4.12.2)\n",
      "Requirement already satisfied: pandas in c:\\users\\sai\\anaconda3\\lib\\site-packages (2.0.3)\n",
      "Requirement already satisfied: openpyxl in c:\\users\\sai\\anaconda3\\lib\\site-packages (3.0.10)\n",
      "Requirement already satisfied: charset-normalizer<4,>=2 in c:\\users\\sai\\anaconda3\\lib\\site-packages (from requests) (2.0.4)\n",
      "Requirement already satisfied: idna<4,>=2.5 in c:\\users\\sai\\anaconda3\\lib\\site-packages (from requests) (3.4)\n",
      "Requirement already satisfied: urllib3<3,>=1.21.1 in c:\\users\\sai\\anaconda3\\lib\\site-packages (from requests) (1.26.16)\n",
      "Requirement already satisfied: certifi>=2017.4.17 in c:\\users\\sai\\anaconda3\\lib\\site-packages (from requests) (2024.7.4)\n",
      "Requirement already satisfied: soupsieve>1.2 in c:\\users\\sai\\anaconda3\\lib\\site-packages (from beautifulsoup4) (2.4)\n",
      "Requirement already satisfied: python-dateutil>=2.8.2 in c:\\users\\sai\\anaconda3\\lib\\site-packages (from pandas) (2.8.2)\n",
      "Requirement already satisfied: pytz>=2020.1 in c:\\users\\sai\\anaconda3\\lib\\site-packages (from pandas) (2023.3.post1)\n",
      "Requirement already satisfied: tzdata>=2022.1 in c:\\users\\sai\\anaconda3\\lib\\site-packages (from pandas) (2023.3)\n",
      "Requirement already satisfied: numpy>=1.21.0 in c:\\users\\sai\\anaconda3\\lib\\site-packages (from pandas) (1.24.3)\n",
      "Requirement already satisfied: et_xmlfile in c:\\users\\sai\\anaconda3\\lib\\site-packages (from openpyxl) (1.1.0)\n",
      "Requirement already satisfied: six>=1.5 in c:\\users\\sai\\anaconda3\\lib\\site-packages (from python-dateutil>=2.8.2->pandas) (1.16.0)\n"
     ]
    }
   ],
   "source": [
    "!pip install requests beautifulsoup4 pandas openpyxl"
   ]
  },
  {
   "cell_type": "markdown",
   "id": "580447ab",
   "metadata": {},
   "source": [
    "### Import Libraries"
   ]
  },
  {
   "cell_type": "code",
   "execution_count": 2,
   "id": "b6d15752",
   "metadata": {},
   "outputs": [],
   "source": [
    "import requests\n",
    "from bs4 import BeautifulSoup\n",
    "import pandas as pd"
   ]
  },
  {
   "cell_type": "markdown",
   "id": "1a1dd884",
   "metadata": {},
   "source": [
    "**Function to construct the search URL**"
   ]
  },
  {
   "cell_type": "code",
   "execution_count": 3,
   "id": "c267ece1",
   "metadata": {},
   "outputs": [],
   "source": [
    "def get_search_url(site, search_term):\n",
    "    \"\"\"Generate search URL based on site and search term.\"\"\"\n",
    "    if site.lower() == 'amazon':\n",
    "        return f\"https://www.amazon.in/s?k={search_term.replace(' ', '+')}\"\n",
    "    elif site.lower() == 'flipkart':\n",
    "        return f\"https://www.flipkart.com/search?q={search_term.replace(' ', '%20')}\"\n",
    "    else:\n",
    "        raise ValueError(\"Website not supported. Please use 'Amazon' or 'Flipkart'.\")"
   ]
  },
  {
   "cell_type": "markdown",
   "id": "3ed20c73",
   "metadata": {},
   "source": [
    "**Function to extract product details**"
   ]
  },
  {
   "cell_type": "code",
   "execution_count": 4,
   "id": "950b5cc1",
   "metadata": {},
   "outputs": [],
   "source": [
    "def get_search_url(site, search_term):\n",
    "    \"\"\"Generate search URL based on site and search term.\"\"\"\n",
    "    if site.lower() == 'amazon':\n",
    "        return f\"https://www.amazon.in/s?k={search_term.replace(' ', '+')}\"\n",
    "    elif site.lower() == 'flipkart':\n",
    "        return f\"https://www.flipkart.com/search?q={search_term.replace(' ', '%20')}\"\n",
    "    else:\n",
    "        raise ValueError(\"Website not supported. Please use 'Amazon' or 'Flipkart'.\")"
   ]
  },
  {
   "cell_type": "markdown",
   "id": "82eca19d",
   "metadata": {},
   "source": [
    "**Function to extract product details**"
   ]
  },
  {
   "cell_type": "code",
   "execution_count": 5,
   "id": "c73bad34",
   "metadata": {},
   "outputs": [],
   "source": [
    "def extract_product_details(site, search_term):\n",
    "    \"\"\"Scrape product details from the given site and search term.\"\"\"\n",
    "    url = get_search_url(site, search_term)\n",
    "    headers = {\"User-Agent\": \"Mozilla/5.0 (Windows NT 10.0; Win64; x64) AppleWebKit/537.36 (KHTML, like Gecko) Chrome/91.0.4472.124 Safari/537.36\"}\n",
    "    response = requests.get(url, headers=headers)\n",
    "    soup = BeautifulSoup(response.content, \"html.parser\")\n",
    "    \n",
    "    products = []"
   ]
  },
  {
   "cell_type": "markdown",
   "id": "77e2b272",
   "metadata": {},
   "source": [
    "**Amazon scraping**"
   ]
  },
  {
   "cell_type": "code",
   "execution_count": 8,
   "id": "99729fbd",
   "metadata": {},
   "outputs": [],
   "source": [
    "# Function to extract product details\n",
    "def extract_product_details(site, search_term):\n",
    "    \"\"\"Scrape product details from the given site and search term.\"\"\"\n",
    "    url = get_search_url(site, search_term)\n",
    "    headers = {\"User-Agent\": \"Mozilla/5.0 (Windows NT 10.0; Win64; x64) AppleWebKit/537.36 (KHTML, like Gecko) Chrome/91.0.4472.124 Safari/537.36\"}\n",
    "    response = requests.get(url, headers=headers)\n",
    "    soup = BeautifulSoup(response.content, \"html.parser\")\n",
    "    \n",
    "    products = []\n",
    "    \n",
    "    # Amazon scraping\n",
    "    if site.lower() == 'amazon':\n",
    "        product_list = soup.find_all('div', {'data-component-type': 's-search-result'})\n",
    "        for item in product_list:\n",
    "            try:\n",
    "                name = item.h2.text.strip()\n",
    "            except AttributeError:\n",
    "                name = \"Name not available\"\n",
    "            \n",
    "            try:\n",
    "                price_whole = item.find('span', 'a-price-whole')\n",
    "                price_fraction = item.find('span', 'a-price-fraction')\n",
    "                if price_whole and price_fraction:\n",
    "                    price = f\"{price_whole.text.strip()}.{price_fraction.text.strip()}\"\n",
    "                else:\n",
    "                    price = \"Price not available\"\n",
    "            except AttributeError:\n",
    "                price = \"Price not available\"\n",
    "            \n",
    "            try:\n",
    "                rating = item.find('span', class_='a-icon-alt').text.strip()\n",
    "            except AttributeError:\n",
    "                rating = \"Rating not available\"\n",
    "            \n",
    "            products.append([name, price, rating])\n",
    "\n",
    "    # Flipkart scraping (as previously defined)\n",
    "    elif site.lower() == 'flipkart':\n",
    "        product_list = soup.find_all('div', {'class': '_1AtVbE'})\n",
    "        for item in product_list:\n",
    "            name_tag = item.find('a', {'class': 'IRpwTa'})\n",
    "            if not name_tag:\n",
    "                continue\n",
    "            name = name_tag.text.strip()\n",
    "            try:\n",
    "                price = item.find('div', {'class': '_30jeq3'}).text.strip()\n",
    "            except AttributeError:\n",
    "                price = \"Price not available\"\n",
    "            try:\n",
    "                rating = item.find('div', {'class': '_3LWZlK'}).text.strip()\n",
    "            except AttributeError:\n",
    "                rating = \"Rating not available\"\n",
    "            products.append([name, price, rating])\n",
    "\n",
    "    return products\n"
   ]
  },
  {
   "cell_type": "markdown",
   "id": "c1a7458c",
   "metadata": {},
   "source": [
    "**Function to save data to Excel**"
   ]
  },
  {
   "cell_type": "code",
   "execution_count": 10,
   "id": "2c879737",
   "metadata": {},
   "outputs": [],
   "source": [
    "def save_to_excel(products, filename):\n",
    "    \"\"\"Save the scraped product data to an Excel file.\"\"\"\n",
    "    df = pd.DataFrame(products, columns=['Product Name', 'Price', 'Rating'])\n",
    "    df.to_excel(filename, index=False, engine='openpyxl')\n",
    "    print(f\"Data saved to {filename}\")"
   ]
  },
  {
   "cell_type": "markdown",
   "id": "05fe8ca1",
   "metadata": {},
   "source": [
    "**Main function to search and save product data**"
   ]
  },
  {
   "cell_type": "code",
   "execution_count": 13,
   "id": "cccea377",
   "metadata": {},
   "outputs": [],
   "source": [
    "def search_and_save(site, search_term, filename=\"product_details.xlsx\"):\n",
    "    \"\"\"Main function to scrape product data and save to Excel.\"\"\"\n",
    "    products = extract_product_details(site, search_term)\n",
    "    if products:\n",
    "        save_to_excel(products, filename)\n",
    "    else:\n",
    "        print(\"No products found.\")"
   ]
  },
  {
   "cell_type": "markdown",
   "id": "f82d1406",
   "metadata": {},
   "source": [
    "**Usage**"
   ]
  },
  {
   "cell_type": "code",
   "execution_count": null,
   "id": "4b199743",
   "metadata": {},
   "outputs": [],
   "source": [
    "# Run this cell to perform the search and save results to an Excel file\n",
    "site = input(\"Enter e-commerce site (Amazon or Flipkart): \").strip().lower()\n",
    "search_term = input(\"Enter the product search term: \").strip()\n",
    "search_and_save(site, search_term)"
   ]
  }
 ],
 "metadata": {
  "kernelspec": {
   "display_name": "Python 3 (ipykernel)",
   "language": "python",
   "name": "python3"
  },
  "language_info": {
   "codemirror_mode": {
    "name": "ipython",
    "version": 3
   },
   "file_extension": ".py",
   "mimetype": "text/x-python",
   "name": "python",
   "nbconvert_exporter": "python",
   "pygments_lexer": "ipython3",
   "version": "3.11.5"
  }
 },
 "nbformat": 4,
 "nbformat_minor": 5
}
